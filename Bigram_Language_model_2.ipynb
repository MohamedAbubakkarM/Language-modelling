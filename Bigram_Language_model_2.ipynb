{
  "nbformat": 4,
  "nbformat_minor": 0,
  "metadata": {
    "colab": {
      "provenance": [],
      "authorship_tag": "ABX9TyPBjAP8IYuzFfxWKxWp1SKx",
      "include_colab_link": true
    },
    "kernelspec": {
      "name": "python3",
      "display_name": "Python 3"
    },
    "language_info": {
      "name": "python"
    }
  },
  "cells": [
    {
      "cell_type": "markdown",
      "metadata": {
        "id": "view-in-github",
        "colab_type": "text"
      },
      "source": [
        "<a href=\"https://colab.research.google.com/github/MohamedAbubakkarM/Language-modelling/blob/main/Bigram_Language_model_2.ipynb\" target=\"_parent\"><img src=\"https://colab.research.google.com/assets/colab-badge.svg\" alt=\"Open In Colab\"/></a>"
      ]
    },
    {
      "cell_type": "code",
      "execution_count": 3,
      "metadata": {
        "id": "FXDUcZt4dc42"
      },
      "outputs": [],
      "source": [
        "import torch.nn.functional as F\n",
        "import torch\n",
        "import matplotlib.pyplot as plt\n",
        "%matplotlib inline"
      ]
    },
    {
      "cell_type": "code",
      "source": [
        "words = open('/content/names.txt', 'r').read().splitlines()\n",
        "words = list(map(lambda s: s.lower(), words))"
      ],
      "metadata": {
        "id": "siLdmJcSdy0Z"
      },
      "execution_count": 4,
      "outputs": []
    },
    {
      "cell_type": "code",
      "source": [
        "chars = sorted(list(set(''.join(words))))\n",
        "stoi = {s:i+1 for i, s in enumerate(chars)}\n",
        "stoi['.'] = 0\n",
        "itos = {i: s for s, i in stoi.items()}\n",
        "itos"
      ],
      "metadata": {
        "colab": {
          "base_uri": "https://localhost:8080/"
        },
        "collapsed": true,
        "id": "iLAjvLlNd9Hl",
        "outputId": "9f5e8ddc-070c-44c3-dbcd-59d1ebdca1ce"
      },
      "execution_count": 5,
      "outputs": [
        {
          "output_type": "execute_result",
          "data": {
            "text/plain": [
              "{1: 'a',\n",
              " 2: 'b',\n",
              " 3: 'c',\n",
              " 4: 'd',\n",
              " 5: 'e',\n",
              " 6: 'g',\n",
              " 7: 'h',\n",
              " 8: 'i',\n",
              " 9: 'j',\n",
              " 10: 'k',\n",
              " 11: 'l',\n",
              " 12: 'm',\n",
              " 13: 'n',\n",
              " 14: 'o',\n",
              " 15: 'p',\n",
              " 16: 'q',\n",
              " 17: 'r',\n",
              " 18: 's',\n",
              " 19: 't',\n",
              " 20: 'u',\n",
              " 21: 'v',\n",
              " 22: 'w',\n",
              " 23: 'x',\n",
              " 24: 'y',\n",
              " 25: 'z',\n",
              " 0: '.'}"
            ]
          },
          "metadata": {},
          "execution_count": 5
        }
      ]
    },
    {
      "cell_type": "code",
      "source": [
        "# Building the dataset\n",
        "\n",
        "block_size = 3 # Indicates how many characters we take to predict next one\n",
        "X, Y = [], []\n",
        "\n",
        "for w in words:\n",
        "  context = [0]*block_size\n",
        "  for ch in w + '.':\n",
        "    ix = stoi[ch]\n",
        "    X.append(context)\n",
        "    Y.append(ix)\n",
        "    #print(''.join(itos[i] for i in context), '--->', itos[ix])\n",
        "    context = context[1:] + [ix]\n",
        "\n",
        "X = torch.tensor(X)\n",
        "Y = torch.tensor(Y)"
      ],
      "metadata": {
        "id": "oSYmJvuqePUk"
      },
      "execution_count": 6,
      "outputs": []
    },
    {
      "cell_type": "code",
      "source": [
        "def build_dataset(words):\n",
        "  block_size = 3\n",
        "  X, Y = [], []\n",
        "  for w in words:\n",
        "    context = [0]*block_size\n",
        "    for ch in w + '.':\n",
        "      ix = stoi[ch]\n",
        "      X.append(context)\n",
        "      Y.append(ix)\n",
        "      #print(''.join(itos[i] for i in context), '--->', itos[ix])\n",
        "      context = context[1:] + [ix]\n",
        "  X = torch.tensor(X)\n",
        "  Y = torch.tensor(Y)\n",
        "  return X, Y\n",
        "\n",
        "n1 = int(0.8*len(words))\n",
        "n2 = int(0.9*len(words))\n",
        "\n",
        "Xtr, Ytr = build_dataset(words[:n1])\n",
        "Xdev, Ydev = build_dataset(words[n1:n2])\n",
        "Xte, Yte = build_dataset(words[n2:])"
      ],
      "metadata": {
        "id": "FRjp3c4RK1mm"
      },
      "execution_count": 29,
      "outputs": []
    },
    {
      "cell_type": "code",
      "source": [
        "Xtr.shape, Ytr.shape"
      ],
      "metadata": {
        "colab": {
          "base_uri": "https://localhost:8080/"
        },
        "id": "5dyT_Pz1fkw6",
        "outputId": "8a235dc0-0770-4638-c5af-071a6cc69f26"
      },
      "execution_count": 30,
      "outputs": [
        {
          "output_type": "execute_result",
          "data": {
            "text/plain": [
              "(torch.Size([196666, 3]), torch.Size([196666]))"
            ]
          },
          "metadata": {},
          "execution_count": 30
        }
      ]
    },
    {
      "cell_type": "code",
      "source": [
        "C = torch.randn((27, 2))"
      ],
      "metadata": {
        "id": "dnoiNeNuhhRK"
      },
      "execution_count": 31,
      "outputs": []
    },
    {
      "cell_type": "code",
      "source": [
        "emb = C[X]"
      ],
      "metadata": {
        "id": "yyfalFNkmdP9"
      },
      "execution_count": 32,
      "outputs": []
    },
    {
      "cell_type": "code",
      "source": [
        "W1 = torch.randn((6, 100))\n",
        "b1 = torch.randn((100))\n",
        "\n",
        "h = torch.tanh(emb.view(-1, 6) @ W1 + b1) # Hidden layer"
      ],
      "metadata": {
        "id": "QVvy0kAbmlU_"
      },
      "execution_count": 33,
      "outputs": []
    },
    {
      "cell_type": "code",
      "source": [
        "W2 = torch.randn((100, 27))\n",
        "b2 = torch.randn((27))\n",
        "\n",
        "# Output\n",
        "logits = h @ W2 + b2\n",
        "count = logits.exp()\n",
        "probs = count / count.sum(1, keepdims=True)"
      ],
      "metadata": {
        "id": "G-XPyP8_vaP0"
      },
      "execution_count": 34,
      "outputs": []
    },
    {
      "cell_type": "code",
      "source": [
        "loss = -probs[torch.arange(X.shape[0]), Y].log().mean()\n",
        "loss"
      ],
      "metadata": {
        "colab": {
          "base_uri": "https://localhost:8080/"
        },
        "id": "Vvvo1UXIveGK",
        "outputId": "828de3c9-e65e-40cd-bf00-ae262d50b8d2"
      },
      "execution_count": 35,
      "outputs": [
        {
          "output_type": "execute_result",
          "data": {
            "text/plain": [
              "tensor(17.6871)"
            ]
          },
          "metadata": {},
          "execution_count": 35
        }
      ]
    },
    {
      "cell_type": "code",
      "source": [
        "# Forward pass can be easily done and efficiently :\n",
        "loss = F.cross_entropy(logits, Y)\n",
        "loss"
      ],
      "metadata": {
        "colab": {
          "base_uri": "https://localhost:8080/"
        },
        "id": "cE_5lVWEv6lo",
        "outputId": "37e74d93-a782-43b6-a40d-a493121535a2"
      },
      "execution_count": 36,
      "outputs": [
        {
          "output_type": "execute_result",
          "data": {
            "text/plain": [
              "tensor(17.6871)"
            ]
          },
          "metadata": {},
          "execution_count": 36
        }
      ]
    },
    {
      "cell_type": "code",
      "source": [
        "# Respectful way of doing it :)"
      ],
      "metadata": {
        "id": "D24tvpzDwD-u"
      },
      "execution_count": 37,
      "outputs": []
    },
    {
      "cell_type": "code",
      "source": [
        "g = torch.Generator().manual_seed(2147483647)\n",
        "C = torch.randn((27, 10), generator=g)\n",
        "W1 = torch.randn((30, 200), generator=g)\n",
        "b1 = torch.randn(200, generator=g)\n",
        "W2 = torch.randn((200, 27), generator=g)\n",
        "b2 = torch.randn(27, generator=g)\n",
        "\n",
        "parameters = [C, W1, W2, b1, b2]"
      ],
      "metadata": {
        "id": "YAcVjgm5wdDU"
      },
      "execution_count": 47,
      "outputs": []
    },
    {
      "cell_type": "code",
      "source": [
        "for p in parameters:\n",
        "  p.requires_grad = True"
      ],
      "metadata": {
        "id": "JR0VLNzVyibL"
      },
      "execution_count": 48,
      "outputs": []
    },
    {
      "cell_type": "code",
      "source": [
        "for _ in range(200000):\n",
        "\n",
        "  ix = torch.randint(0, X.shape[0], (32,))\n",
        "\n",
        "  emb = C[X[ix]]\n",
        "  # forward pass\n",
        "  h = torch.tanh(emb.view(-1, 30) @ W1 + b1)\n",
        "  logits = h @ W2 + b2\n",
        "  loss = F.cross_entropy(logits, Y[ix])\n",
        "  #print(loss.item())\n",
        "\n",
        "  # backward pass\n",
        "  for p in parameters:\n",
        "    p.grad = None\n",
        "  loss.backward()\n",
        "\n",
        "  #update\n",
        "  for p in parameters:\n",
        "    p.data += -0.01 * p.grad\n",
        "print(loss.item())"
      ],
      "metadata": {
        "colab": {
          "base_uri": "https://localhost:8080/"
        },
        "collapsed": true,
        "id": "xu5g2z9oxIiM",
        "outputId": "a855617d-7cc8-45d1-f25c-86a48bbf6a6e"
      },
      "execution_count": 49,
      "outputs": [
        {
          "output_type": "stream",
          "name": "stdout",
          "text": [
            "2.386263370513916\n"
          ]
        }
      ]
    },
    {
      "cell_type": "code",
      "source": [
        "logits.max(1)"
      ],
      "metadata": {
        "colab": {
          "base_uri": "https://localhost:8080/"
        },
        "id": "aO-18MmNyg8K",
        "outputId": "618a6e30-cfba-4c79-9cdc-5d74363f80d3"
      },
      "execution_count": 50,
      "outputs": [
        {
          "output_type": "execute_result",
          "data": {
            "text/plain": [
              "torch.return_types.max(\n",
              "values=tensor([ 0.8697,  8.1147,  7.9669,  6.7395,  0.8697,  0.8697,  7.7722,  8.2195,\n",
              "         7.0481,  4.9798,  5.0292, 11.3263,  6.4612,  7.0872,  8.8829,  8.2018,\n",
              "         6.4106,  8.9941,  3.9482,  4.3217,  0.8697,  4.9283,  0.8697,  6.9388,\n",
              "         0.8697,  6.5273, 16.7881,  7.9554,  7.3461,  7.4787,  5.4914,  7.0111],\n",
              "       grad_fn=<MaxBackward0>),\n",
              "indices=tensor([ 1,  5, 17, 10,  1,  1,  0,  0,  5, 11,  8,  0, 13,  0,  7,  1,  8,  5,\n",
              "         8,  8,  1, 17,  1,  5,  1,  1,  0, 17,  1,  1, 17,  0]))"
            ]
          },
          "metadata": {},
          "execution_count": 50
        }
      ]
    },
    {
      "cell_type": "code",
      "source": [
        "Y # logits indices is the one that is predicted by neural network. Our NN actually predicted good.."
      ],
      "metadata": {
        "colab": {
          "base_uri": "https://localhost:8080/"
        },
        "id": "EY_3R_R3ySHc",
        "outputId": "9041d5bf-5770-4a0c-f988-a227b54ddca1"
      },
      "execution_count": 51,
      "outputs": [
        {
          "output_type": "execute_result",
          "data": {
            "text/plain": [
              "tensor([ 5, 12, 12,  ..., 11, 12,  0])"
            ]
          },
          "metadata": {},
          "execution_count": 51
        }
      ]
    },
    {
      "cell_type": "code",
      "source": [
        "# Finding good learning\n",
        "lre = torch.linspace(-3, 0, 1000)\n",
        "lrs = 10**lre\n",
        "lrs"
      ],
      "metadata": {
        "id": "O9nJNKC6zbNw"
      },
      "execution_count": null,
      "outputs": []
    },
    {
      "cell_type": "code",
      "source": [
        "# Sampling from the model\n",
        "g = torch.Generator().manual_seed(2147483647 + 10)\n",
        "\n",
        "for _ in range(20): # We are sampling 10 names\n",
        "  out = []\n",
        "  context = [0]*block_size\n",
        "  while True:\n",
        "    emb = C[torch.tensor([context])]\n",
        "    h = torch.tanh(emb.view(1, -1) @ W1 + b1)\n",
        "    logits = h @ W2 + b2\n",
        "    probs = F.softmax(logits, dim=1)\n",
        "    ix = torch.multinomial(probs, num_samples=1, generator=g).item()\n",
        "    context = context[1:] + [ix]\n",
        "    out.append(ix)\n",
        "    if ix == 0:\n",
        "      break\n",
        "  print(''.join(itos[i] for i in out))\n"
      ],
      "metadata": {
        "colab": {
          "base_uri": "https://localhost:8080/"
        },
        "id": "PUs-D3GXIzk_",
        "outputId": "0619ad07-34ab-4f2d-8760-b1a949a1cd93"
      },
      "execution_count": 53,
      "outputs": [
        {
          "output_type": "stream",
          "name": "stdout",
          "text": [
            "esiahm.\n",
            "zakishelendini.\n",
            "marelistm.\n",
            "khamelyn.\n",
            "caldiem.\n",
            "jinna.\n",
            "kelm.\n",
            "lehy.\n",
            "rosoasmenm.\n",
            "jainashio.\n",
            "tadinshyianae.\n",
            "shonm.\n",
            "yulm.\n",
            "ryonivchlverleeda.\n",
            "yzriyanni.\n",
            "zine.\n",
            "rinleeda.\n",
            "iza.\n",
            "calzartey.\n",
            "kalim.\n"
          ]
        }
      ]
    },
    {
      "cell_type": "code",
      "source": [],
      "metadata": {
        "id": "5ZVQFG1iJpGg"
      },
      "execution_count": null,
      "outputs": []
    }
  ]
}